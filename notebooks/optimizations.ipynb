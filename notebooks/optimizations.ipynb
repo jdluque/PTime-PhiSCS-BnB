{
 "cells": [
  {
   "cell_type": "markdown",
   "metadata": {},
   "source": [
    "## Optimizations for computing conflicting columns\n",
    "\n",
    "1. Cast the datatypes to bool to avoid having to compute boolean masks of 0 and 1 entries in matrix columns (46% speedup)\n",
    "2. Transpose the matrix first to perform operations row-wise and exploit locality (~2.3% speedup)\n",
    "3. Short circuiting the computation of conflict columns (20% speedup)\n",
    "\n",
    "Unsuccessful improvements:\n",
    "1. Packing bits using `np.packbits()` did not noticeably speed up the code.  \n"
   ]
  },
  {
   "cell_type": "code",
   "execution_count": 2,
   "metadata": {},
   "outputs": [],
   "source": [
    "import numpy as np\n",
    "from lower_bounds_benchmark import is_conflict\n",
    "from scphylo.datasets import melanoma20\n",
    "from time import time"
   ]
  },
  {
   "cell_type": "code",
   "execution_count": 3,
   "metadata": {},
   "outputs": [],
   "source": [
    "def is_conflict_row_wise(X_T, p, q):\n",
    "    \"\"\"Check if rows p and q of X.T have conflicts.\"\"\"\n",
    "    col_p = X_T[p]\n",
    "    col_q = X_T[q]\n",
    "    col_p_is_1 = col_p == 1\n",
    "    is10 = np.any(col_p_is_1 & (col_q == 0))\n",
    "    col_q_is_1 = col_q == 1\n",
    "    is11 = np.any(col_p_is_1 & col_q_is_1)\n",
    "    is01 = np.any((col_p == 0) & col_q_is_1)\n",
    "    return is10 and is01 and is11"
   ]
  },
  {
   "cell_type": "code",
   "execution_count": 4,
   "metadata": {},
   "outputs": [],
   "source": [
    "def manual_transpose(X):\n",
    "    m, n = X.shape\n",
    "    rv = np.empty((n, m), dtype=np.bool, order='C')\n",
    "    for i in range(m):\n",
    "        for j in range(n):\n",
    "            rv[j, i] = X[i, j]\n",
    "    return rv"
   ]
  },
  {
   "cell_type": "code",
   "execution_count": 5,
   "metadata": {},
   "outputs": [],
   "source": [
    "num_repeat = 40\n",
    "num_cols = 200"
   ]
  },
  {
   "cell_type": "code",
   "execution_count": 30,
   "metadata": {},
   "outputs": [
    {
     "name": "stderr",
     "output_type": "stream",
     "text": [
      "/home/juanl/.pyenv/versions/phiscs/lib/python3.10/site-packages/anndata/__init__.py:52: FutureWarning: `anndata.read` is deprecated, use `anndata.read_h5ad` instead. `ad.read` will be removed in mid 2024.\n",
      "  warnings.warn(\n"
     ]
    },
    {
     "name": "stdout",
     "output_type": "stream",
     "text": [
      "Average time to compute column-wise conflicts: 0.4885720670223236\n"
     ]
    }
   ],
   "source": [
    "data = melanoma20().X.astype(np.bool)[:, :num_cols]\n",
    "m, n = data.shape\n",
    "colwise_function_time = time()\n",
    "for _ in range(num_repeat):\n",
    "    for i in range(n):\n",
    "        for j in range(i+1, n):\n",
    "            is_conflict(data, i, j)\n",
    "colwise_function_time = time() - colwise_function_time\n",
    "print(f\"Average time to compute column-wise conflicts: {colwise_function_time/num_repeat}\")"
   ]
  },
  {
   "cell_type": "code",
   "execution_count": 20,
   "metadata": {},
   "outputs": [
    {
     "name": "stderr",
     "output_type": "stream",
     "text": [
      "/home/juanl/.pyenv/versions/phiscs/lib/python3.10/site-packages/anndata/__init__.py:52: FutureWarning: `anndata.read` is deprecated, use `anndata.read_h5ad` instead. `ad.read` will be removed in mid 2024.\n",
      "  warnings.warn(\n"
     ]
    },
    {
     "name": "stdout",
     "output_type": "stream",
     "text": [
      "Average time to compute column-wise conflicts: 0.38123714327812197\n"
     ]
    }
   ],
   "source": [
    "data = melanoma20().X.astype(np.bool)[:, :num_cols]\n",
    "m, n = data.shape\n",
    "colwise_time = time()\n",
    "for _ in range(num_repeat):\n",
    "    for i in range(n):\n",
    "        for j in range(i+1, n):\n",
    "            is10 = np.any(data[:, i] & ~data[:, j])\n",
    "            is11 = np.any(data[:, i] & data[:, j])\n",
    "            is01 = np.any(~data[:, i] & data[:, j])\n",
    "            is10 and is11 and is01\n",
    "colwise_time = time() - colwise_time\n",
    "print(f\"Average time to compute column-wise conflicts: {colwise_time/num_repeat}\")"
   ]
  },
  {
   "cell_type": "code",
   "execution_count": 16,
   "metadata": {},
   "outputs": [
    {
     "name": "stderr",
     "output_type": "stream",
     "text": [
      "/home/juanl/.pyenv/versions/phiscs/lib/python3.10/site-packages/anndata/__init__.py:52: FutureWarning: `anndata.read` is deprecated, use `anndata.read_h5ad` instead. `ad.read` will be removed in mid 2024.\n",
      "  warnings.warn(\n"
     ]
    },
    {
     "name": "stdout",
     "output_type": "stream",
     "text": [
      "Time to compute row-wise conflicts: 0.3759960770606995\n"
     ]
    }
   ],
   "source": [
    "data_T = melanoma20().X.T.astype(np.bool)[:num_cols, :]\n",
    "rowwise_time = time()\n",
    "for _ in range(num_repeat):\n",
    "    for i in range(n):\n",
    "        for j in range(i+1, n):\n",
    "            is10 = np.any(data_T[i] & ~data_T[j])\n",
    "            is11 = np.any(data_T[i] & data_T[j])\n",
    "            is01 = np.any(~data_T[i] & data_T[j])\n",
    "            is10 and is11 and is01\n",
    "rowwise_time = time() - rowwise_time\n",
    "print(f\"Time to compute row-wise conflicts: {rowwise_time/num_repeat}\")"
   ]
  },
  {
   "cell_type": "code",
   "execution_count": 32,
   "metadata": {},
   "outputs": [
    {
     "name": "stderr",
     "output_type": "stream",
     "text": [
      "/home/juanl/.pyenv/versions/phiscs/lib/python3.10/site-packages/anndata/__init__.py:52: FutureWarning: `anndata.read` is deprecated, use `anndata.read_h5ad` instead. `ad.read` will be removed in mid 2024.\n",
      "  warnings.warn(\n"
     ]
    },
    {
     "name": "stdout",
     "output_type": "stream",
     "text": [
      "Time to compute row-wise conflicts: 0.3220328688621521\n"
     ]
    }
   ],
   "source": [
    "def is_conflict_early_exit(data_T, i, j):\n",
    "    is10 = np.any(data_T[i] & ~data_T[j])\n",
    "    if not is10:\n",
    "        return False\n",
    "    is11 = np.any(data_T[i] & data_T[j])\n",
    "    if not is11:\n",
    "        return False\n",
    "    is01 = np.any(~data_T[i] & data_T[j])\n",
    "    if not is01:\n",
    "        return False\n",
    "    return True\n",
    "    \n",
    "data_T = melanoma20().X.T.astype(np.bool)[:num_cols, :]\n",
    "rowwise_time_early_exit = time()\n",
    "for _ in range(num_repeat):\n",
    "    for i in range(n):\n",
    "        for j in range(i+1, n):\n",
    "            is_conflict_early_exit(data_T, i, j)\n",
    "rowwise_time_early_exit = time() - rowwise_time_early_exit\n",
    "print(f\"Time to compute row-wise conflicts: {rowwise_time_early_exit/num_repeat}\")"
   ]
  },
  {
   "cell_type": "code",
   "execution_count": 28,
   "metadata": {},
   "outputs": [
    {
     "name": "stderr",
     "output_type": "stream",
     "text": [
      "/home/juanl/.pyenv/versions/phiscs/lib/python3.10/site-packages/anndata/__init__.py:52: FutureWarning: `anndata.read` is deprecated, use `anndata.read_h5ad` instead. `ad.read` will be removed in mid 2024.\n",
      "  warnings.warn(\n"
     ]
    },
    {
     "data": {
      "text/plain": [
       "(200, 3)"
      ]
     },
     "execution_count": 28,
     "metadata": {},
     "output_type": "execute_result"
    }
   ],
   "source": [
    "\n",
    "data_T = melanoma20().X.T.astype(np.bool)[:num_cols, :]\n",
    "packed = np.packbits(data_T, axis=1)\n",
    "packed.shape"
   ]
  },
  {
   "cell_type": "code",
   "execution_count": 33,
   "metadata": {},
   "outputs": [
    {
     "name": "stderr",
     "output_type": "stream",
     "text": [
      "/home/juanl/.pyenv/versions/phiscs/lib/python3.10/site-packages/anndata/__init__.py:52: FutureWarning: `anndata.read` is deprecated, use `anndata.read_h5ad` instead. `ad.read` will be removed in mid 2024.\n",
      "  warnings.warn(\n"
     ]
    },
    {
     "name": "stdout",
     "output_type": "stream",
     "text": [
      "Time to compute row-wise conflicts: 0.32994045615196227\n"
     ]
    }
   ],
   "source": [
    "def is_conflict_early_exit(data_T, i, j):\n",
    "    return ((np.any(data_T[i] & ~data_T[j])) \n",
    "            and (np.any(data_T[i] & data_T[j]))\n",
    "            and(np.any(~data_T[i] & data_T[j]))\n",
    "    )\n",
    "    \n",
    "data_T = melanoma20().X.T.astype(np.bool)[:num_cols, :]\n",
    "# Pack each row (formerly column) into uint8 bitvectors\n",
    "data_T = np.packbits(data_T, axis=1)\n",
    "rowwise_time_early_exit = time()\n",
    "for _ in range(num_repeat):\n",
    "    for i in range(n):\n",
    "        for j in range(i+1, n):\n",
    "            is_conflict_early_exit(data_T, i, j)\n",
    "rowwise_time_early_exit = time() - rowwise_time_early_exit\n",
    "print(f\"Time to compute row-wise conflicts: {rowwise_time_early_exit/num_repeat}\")"
   ]
  },
  {
   "cell_type": "code",
   "execution_count": 10,
   "metadata": {},
   "outputs": [],
   "source": [
    "# Check for time improvements by transposing or storing the array data differently\n",
    "# data_T = np.ascontiguousarray(melanoma20().X.T, dtype=np.bool)[:num_cols, :]\n",
    "# rowwise_time = time()\n",
    "# for _ in range(num_repeat):\n",
    "#     for i in range(n):\n",
    "#         for j in range(i+1, n):\n",
    "#             is10 = np.any(data_T[i] & ~data_T[j])\n",
    "#             is11 = np.any(data_T[i] & data_T[j])\n",
    "#             is01 = np.any(~data_T[i] & data_T[j])\n",
    "#             is10 and is11 and is01\n",
    "# rowwise_time = time() - rowwise_time\n",
    "# print(f\"Time to compute row-wise conflicts: {rowwise_time/num_repeat}\")\n",
    "\n",
    "# data_T = manual_transpose(melanoma20().X).astype(np.bool)[:num_cols, :]\n",
    "# rowwise_time = time()\n",
    "# for _ in range(num_repeat):\n",
    "#     for i in range(n):\n",
    "#         for j in range(i+1, n):\n",
    "#             is10 = np.any(data_T[i] & ~data_T[j])\n",
    "#             is11 = np.any(data_T[i] & data_T[j])\n",
    "#             is01 = np.any(~data_T[i] & data_T[j])\n",
    "#             is10 and is11 and is01\n",
    "# rowwise_time = time() - rowwise_time\n",
    "# print(f\"Time to compute row-wise conflicts: {rowwise_time/num_repeat}\")"
   ]
  },
  {
   "cell_type": "code",
   "execution_count": 31,
   "metadata": {},
   "outputs": [
    {
     "name": "stdout",
     "output_type": "stream",
     "text": [
      "Rowwise runs 1.299x faster than colwise with helper function\n",
      "Rowwise runs 1.014x faster than colwise\n",
      "Rowwise early exit runs 1.537x faster than colwise with helper function\n",
      "Rowwise early exit runs 1.200x faster than colwise\n"
     ]
    }
   ],
   "source": [
    "print(f\"Rowwise runs {colwise_function_time / rowwise_time:.3f}x faster than colwise with helper function\")\n",
    "print(f\"Rowwise runs {colwise_time / rowwise_time:.3f}x faster than colwise\")\n",
    "print(f\"Rowwise early exit runs {colwise_function_time / rowwise_time_early_exit:.3f}x faster than colwise with helper function\")\n",
    "print(f\"Rowwise early exit runs {colwise_time / rowwise_time_early_exit:.3f}x faster than colwise\")"
   ]
  },
  {
   "cell_type": "markdown",
   "metadata": {},
   "source": [
    "## Speed up vertex cover\n",
    "\n",
    "Since our vertex cover instances are unweighted, we can skip out on some steps used in `networkx.algorithms.min_weighted_vertex_cover()`"
   ]
  },
  {
   "cell_type": "code",
   "execution_count": null,
   "metadata": {},
   "outputs": [
    {
     "name": "stderr",
     "output_type": "stream",
     "text": [
      "/home/juanl/.pyenv/versions/phiscs/lib/python3.10/site-packages/anndata/__init__.py:52: FutureWarning: `anndata.read` is deprecated, use `anndata.read_h5ad` instead. `ad.read` will be removed in mid 2024.\n",
      "  warnings.warn(\n"
     ]
    },
    {
     "name": "stdout",
     "output_type": "stream",
     "text": [
      "New VC is a 1.268x speedup\n"
     ]
    }
   ],
   "source": [
    "from vc import vertex_cover_pp, make_graph\n",
    "\n",
    "data = melanoma20().X.astype(np.bool)[:, :num_cols]\n",
    "vc_prev = time()\n",
    "for _ in range(num_repeat):\n",
    "    vertex_cover_pp(data)\n",
    "vc_prev = time() - vc_prev\n",
    "\n",
    "def min_unweighted_vertex_cover(G):\n",
    "    \"\"\"For unweightred case, no need to use local ratio techniques.\"\"\"\n",
    "    cover = set()\n",
    "    for u, v in G.edges():\n",
    "        if u in cover or v in cover:\n",
    "            continue\n",
    "        cover.add(u)\n",
    "    return cover\n",
    "\n",
    "def vertex_cover_pp_faster(A):\n",
    "    \"\"\"Returns\n",
    "    1. a lower bound on the number of bit flips required to make A a\n",
    "    perfect phylogeny by solving a related weighted vertex cover instance.\n",
    "    2. a set of (i,j) indices of bits flipped.\n",
    "    \"\"\"\n",
    "    G = make_graph(A)\n",
    "    vc = min_unweighted_vertex_cover(G)\n",
    "    flipped_bits = len(vc)\n",
    "    return int(np.ceil(flipped_bits / 2)), list(G.nodes)\n",
    "    \n",
    "vc_new = time()\n",
    "for _ in range(num_repeat):\n",
    "    vertex_cover_pp_faster(data)\n",
    "vc_new = time() - vc_new\n",
    "\n",
    "\n",
    "print(f\"New VC is a {vc_prev/vc_new:.3f}x speedup\")"
   ]
  }
 ],
 "metadata": {
  "kernelspec": {
   "display_name": "phiscs",
   "language": "python",
   "name": "python3"
  },
  "language_info": {
   "codemirror_mode": {
    "name": "ipython",
    "version": 3
   },
   "file_extension": ".py",
   "mimetype": "text/x-python",
   "name": "python",
   "nbconvert_exporter": "python",
   "pygments_lexer": "ipython3",
   "version": "3.10.16"
  }
 },
 "nbformat": 4,
 "nbformat_minor": 2
}
