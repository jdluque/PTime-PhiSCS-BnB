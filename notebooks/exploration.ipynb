{
 "cells": [
  {
   "cell_type": "code",
   "execution_count": 83,
   "metadata": {},
   "outputs": [],
   "source": [
    "import pandas as pd\n",
    "import numpy as np\n",
    "import itertools as it\n",
    "import networkx as nx\n",
    "from collections import Counter, defaultdict\n",
    "from networkx.algorithms.approximation import min_weighted_vertex_cover\n",
    "import random"
   ]
  },
  {
   "cell_type": "code",
   "execution_count": 2,
   "metadata": {},
   "outputs": [],
   "source": [
    "df = pd.read_csv('example/data1.SC', sep='\\t')"
   ]
  },
  {
   "cell_type": "code",
   "execution_count": 3,
   "metadata": {},
   "outputs": [],
   "source": [
    "df.drop(columns=df.columns[0], inplace=True)\n",
    "df.replace('?', 0, inplace=True)"
   ]
  },
  {
   "cell_type": "code",
   "execution_count": 10,
   "metadata": {},
   "outputs": [],
   "source": [
    "A = df.to_numpy(dtype=np.bool)\n",
    "m, n = A.shape"
   ]
  },
  {
   "cell_type": "code",
   "execution_count": 36,
   "metadata": {},
   "outputs": [
    {
     "data": {
      "text/plain": [
       "(20, 20)"
      ]
     },
     "execution_count": 36,
     "metadata": {},
     "output_type": "execute_result"
    }
   ],
   "source": [
    "A.shape"
   ]
  },
  {
   "cell_type": "code",
   "execution_count": 67,
   "metadata": {},
   "outputs": [],
   "source": [
    "def make_graph(A):\n",
    "    \"\"\"Given a matrix A of mutations and cell samples, return a  graph G where nodes are columns,\n",
    "    edges are column pairs with three-gamete rule violations and edge weights are the number of bit\n",
    "    flips required to fix all violations between said column pair.\n",
    "    \"\"\"\n",
    "    \"\"\"Find a PP by reducing to weighted vertex cover where vertices are columns\n",
    "    of A and vertex weights are the number of 0s in the corresponding column.\n",
    "    \"\"\"\n",
    "    m, n = A.shape\n",
    "    row_types_per_col_pair = {(p,q): defaultdict(list) for p,q in it.combinations(range(n), 2)}\n",
    "    edge_list = []\n",
    "    for p,q in it.combinations(range(n), 2):\n",
    "        # Count the number of 01s, 10s, and 11s\n",
    "        for i in range(m):\n",
    "            if A[i, p] and not A[i, q]:\n",
    "                row_types_per_col_pair[p,q][0, 1].append(i)\n",
    "            elif not A[i, p] and A[i, q]:\n",
    "                row_types_per_col_pair[p,q][1, 0].append(i)\n",
    "            elif A[i, p] and A[i, q]:\n",
    "                row_types_per_col_pair[p,q][1, 1].append(i)\n",
    "        # Tally up the number of flips required to fix (p,q) violations\n",
    "        pq_pair_counts = row_types_per_col_pair[p,q]\n",
    "        count11 = len(pq_pair_counts[1, 1])\n",
    "        count01 = len(pq_pair_counts[0, 1])\n",
    "        count10 = len(pq_pair_counts[1, 0])\n",
    "        if count11 and count01 and count10:\n",
    "            edge_list.append((p, q, {'weight': min(count01, count10)}))\n",
    "    G = nx.Graph(edge_list)\n",
    "    nx.set_node_attributes(G, {p: n - np.sum(A[:,p]) for p in range(n)}, 'weight')\n",
    "    print(G.nodes(data='weight'))\n",
    "    return G, row_types_per_col_pair\n",
    "\n",
    "\n",
    "def randPP(A):\n",
    "    pass"
   ]
  },
  {
   "cell_type": "code",
   "execution_count": 68,
   "metadata": {},
   "outputs": [
    {
     "name": "stdout",
     "output_type": "stream",
     "text": [
      "[(0, np.int64(2)), (1, np.int64(6)), (2, np.int64(3)), (3, np.int64(5)), (4, np.int64(5)), (5, np.int64(3)), (7, np.int64(6)), (8, np.int64(4)), (9, np.int64(8)), (11, np.int64(5)), (12, np.int64(4)), (13, np.int64(1)), (14, np.int64(5)), (15, np.int64(4)), (16, np.int64(4)), (17, np.int64(3)), (18, np.int64(4)), (19, np.int64(1)), (6, np.int64(3)), (10, np.int64(4))]\n",
      "Vertex cover deleted 18 / 20 = 90.00% nodes\n",
      "It flipped 75 / 80 = 93.75% bits\n"
     ]
    }
   ],
   "source": [
    "def weighted_vertex_cover_pp(A):\n",
    "    \"\"\"Return a perfect phylogeny of matrix A by solving a related weighted\n",
    "    vertex cover instance.\n",
    "    \"\"\"\n",
    "    G, violations = make_graph(A)\n",
    "    vc = min_weighted_vertex_cover(G, weight='weight')\n",
    "    flipped_bits = sum(G.nodes[v]['weight'] for v in vc)\n",
    "    flippable_bits = m*n - np.sum(A)\n",
    "    print(f'Vertex cover deleted {len(vc)} / {len(G.nodes)} = {len(vc) / len(G.nodes):.2%} nodes')\n",
    "    print(f'It flipped {flipped_bits} / {flippable_bits} = {flipped_bits/flippable_bits:.2%} bits')\n",
    "weighted_vertex_cover_pp(A)"
   ]
  },
  {
   "cell_type": "code",
   "execution_count": 97,
   "metadata": {},
   "outputs": [],
   "source": [
    "# Instead try the randomized generalization of vertex cover that samples greedily\n",
    "def randomized_pp(A, shuffle=False):\n",
    "    A = np.array(A, dtype=np.bool)\n",
    "    m, n = A.shape\n",
    "    num_flipped_bits = 0\n",
    "    flippable_bits = m * n - np.sum(A)\n",
    "    has_violations = True\n",
    "    while has_violations:\n",
    "        iterator = it.combinations(range(n), 2)\n",
    "        if shuffle:\n",
    "            iterator = list(iterator)\n",
    "            random.shuffle(iterator)\n",
    "        for p,q in iterator:\n",
    "            ixs01s, ixs10s = [], []\n",
    "            has11 = False \n",
    "            for i in range(m):\n",
    "                has11 = has11 or (A[i, p] and A[i,q])\n",
    "                if not A[i,p] and A[i,q]:\n",
    "                    ixs01s.append(i)\n",
    "                elif A[i,p] and not A[i,q]:\n",
    "                    ixs10s.append(i)\n",
    "            # A violation was found\n",
    "            if has11 and ixs01s and ixs10s:\n",
    "                prob_flip_01s = len(ixs10s) / (len(ixs01s) + len(ixs10s))\n",
    "                if np.random.rand() < prob_flip_01s:\n",
    "                    num_flipped_bits += len(ixs01s)\n",
    "                    for r in ixs01s:\n",
    "                        A[r,p] = 1\n",
    "                else:\n",
    "                    num_flipped_bits += len(ixs10s)\n",
    "                    for r in ixs10s:\n",
    "                        A[r,q] = 1\n",
    "                continue\n",
    "        # reaching here means no violations remain\n",
    "        has_violations = False\n",
    "    # print(f'Vertex cover flipped {num_flipped_bits} / {flippable_bits} = {num_flipped_bits/flippable_bits:.2%} bits')\n",
    "    return A, num_flipped_bits / flippable_bits\n",
    "\n",
    "        \n"
   ]
  },
  {
   "cell_type": "code",
   "execution_count": 98,
   "metadata": {},
   "outputs": [
    {
     "name": "stdout",
     "output_type": "stream",
     "text": [
      "On average, flipped 92.72% bits.\n",
      "Best performance: 81.25%\n"
     ]
    }
   ],
   "source": [
    "np.random.seed(11)\n",
    "bit_flip_pcts = []\n",
    "for _ in range(100):\n",
    "    pp, num_flipped_bits = randomized_pp(A)\n",
    "    bit_flip_pcts.append(num_flipped_bits)\n",
    "print(f'On average, flipped {np.mean(bit_flip_pcts):.2%} bits.')\n",
    "print(f'Best performance: {min(bit_flip_pcts):.2%}')"
   ]
  },
  {
   "cell_type": "code",
   "execution_count": 101,
   "metadata": {},
   "outputs": [
    {
     "name": "stdout",
     "output_type": "stream",
     "text": [
      "On average, flipped 90.50% bits.\n",
      "Best performance: 81.25%\n",
      "best pp:\n",
      " [[1 1 1 1 1 1 1 1 1 0 1 0 1 1 1 1 1 1 1 1]\n",
      " [1 1 1 1 1 1 1 1 1 1 1 1 1 1 1 1 1 1 1 1]\n",
      " [1 1 1 1 1 1 1 1 1 0 1 1 1 1 1 1 1 1 1 1]\n",
      " [1 1 1 1 1 1 1 1 1 1 1 1 1 1 1 1 1 1 1 1]\n",
      " [1 1 1 1 1 1 1 1 1 1 1 1 1 1 1 1 1 1 1 1]\n",
      " [1 1 1 1 1 1 1 1 1 0 1 1 1 1 1 1 1 1 1 1]\n",
      " [1 0 1 1 1 1 1 1 1 0 1 0 1 1 1 1 1 1 1 1]\n",
      " [1 1 1 1 1 1 1 1 1 1 1 1 1 1 1 1 1 1 1 1]\n",
      " [1 1 1 1 1 1 1 1 1 1 1 1 1 1 1 1 1 1 1 1]\n",
      " [1 1 1 1 1 1 1 1 1 0 1 1 1 1 1 1 1 1 1 1]\n",
      " [1 1 1 1 1 1 1 1 1 1 1 1 1 1 1 1 1 1 1 1]\n",
      " [1 1 1 1 1 1 1 1 1 1 1 1 1 1 1 1 1 1 1 1]\n",
      " [1 1 1 1 1 1 1 1 1 1 1 1 1 1 1 1 1 1 1 1]\n",
      " [1 1 1 1 1 1 1 1 1 0 1 1 1 1 1 1 1 1 1 1]\n",
      " [1 1 1 1 1 1 1 1 1 1 1 1 1 1 1 1 1 1 1 1]\n",
      " [1 1 1 1 1 1 1 1 1 1 1 1 1 1 1 1 1 1 1 1]\n",
      " [1 1 1 1 1 1 1 1 1 0 1 1 1 1 1 1 1 1 1 1]\n",
      " [1 1 1 1 1 1 1 1 1 1 1 1 1 1 1 1 1 1 1 1]\n",
      " [1 0 1 1 0 1 1 1 1 0 1 0 1 1 0 1 1 1 1 1]\n",
      " [1 1 1 1 1 1 1 1 1 1 1 1 1 1 1 1 1 1 1 1]]\n"
     ]
    }
   ],
   "source": [
    "np.random.seed(11)\n",
    "bit_flip_pcts = []\n",
    "least_bit_flips = float('inf')\n",
    "best_pp = None\n",
    "for _ in range(100):\n",
    "    pp, num_flipped_bits = randomized_pp(A, shuffle=True)\n",
    "    bit_flip_pcts.append(num_flipped_bits)\n",
    "    if num_flipped_bits < least_bit_flips:\n",
    "        least_bit_flips = num_flipped_bits\n",
    "        best_pp = pp\n",
    "print(f'On average, flipped {np.mean(bit_flip_pcts):.2%} bits.')\n",
    "print(f'Best performance: {min(bit_flip_pcts):.2%}')\n",
    "print('best pp:\\n', np.astype(best_pp, np.int8))"
   ]
  },
  {
   "cell_type": "code",
   "execution_count": null,
   "metadata": {},
   "outputs": [],
   "source": [
    "# TODO: Instead try sampling with probability proportional to the number of violations removed"
   ]
  }
 ],
 "metadata": {
  "kernelspec": {
   "display_name": "phiscs",
   "language": "python",
   "name": "python3"
  },
  "language_info": {
   "codemirror_mode": {
    "name": "ipython",
    "version": 3
   },
   "file_extension": ".py",
   "mimetype": "text/x-python",
   "name": "python",
   "nbconvert_exporter": "python",
   "pygments_lexer": "ipython3",
   "version": "3.13.0"
  }
 },
 "nbformat": 4,
 "nbformat_minor": 2
}
