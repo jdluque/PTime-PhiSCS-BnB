{
 "cells": [
  {
   "cell_type": "markdown",
   "metadata": {},
   "source": [
    "### **Task 1**: Compare lower-bound with the actual cost\n",
    "\n",
    "Details of the task:\n",
    "- Set LP using [gurobi](https://www.gurobi.com/features/academic-named-user-license/): Need to set up my license\n",
    "\n",
    "    Using [Google OR-Tools](https://developers.google.com/optimization/lp/lp_example) instead\n",
    "- The lower bound is predicted by the LP objective function\n",
    "- The actual solution from the given data OR with an ILP solver\n",
    "- Reference [here](https://github.com/algo-cancer/PhISCS-BnB) for the data & optimal solution\n",
    "\n",
    "**Questions**:\n",
    "* Why does the input data have question marks? - make it automatically 0\n",
    "* When can a mutation be \"eliminated\" (See the [Read Me Section](https://github.com/algo-cancer/PhISCS-BnB/tree/master?tab=readme-ov-file#output))?\n",
    "\n",
    "\n",
    "### **Task 2**: Does the lower bound increase when adding constraints for non-conflict column pairs to the LP (empiricconflicty tested)\n",
    "\n",
    "Details of the task:\n",
    "- First test with the given data [here](https://github.com/algo-cancer/PhISCS-BnB)\n",
    "- Then test with randomly generated data\n",
    "- Compare lower bound with all pairs vs. only conflict pairs in the LP\n",
    "- Is there 1/2 across the board that is lowering the bound of only conflict LPs?\n",
    "- If the additional constraints don’t help - why?\n",
    "\n",
    "**Questions**:\n",
    "* Should I remove constraints (2), (3), (4), (5), (6)\n",
    "\n",
    "    Effectively remove all variables $B_{p,q,x_1,x_2}$ if $p$ and $q$ don't have a conflict\n",
    "\n",
    "### **Task 3**: Write up proof claiming that once a conflict is resolved, those 2 columns will be <, >, or ≠ in the final solution\n",
    "\n",
    "Look at scratch.txt for additional ideas"
   ]
  },
  {
   "cell_type": "markdown",
   "metadata": {},
   "source": [
    "### Functions\n",
    "\n",
    "* `make_random_data(rows, cols, bias)` - create random SCS data with a bias\n",
    "* `read_data(base, file)` - read the data from the file\n",
    "* `get_conversion_cost(X, Y)` - calculate the number of mutations needed to convert X to Y\n",
    "* `find_conflict_columns(X)` - matrix describing if a given pair of columns have a conflict\n",
    "* `solve_LP(SCS, ColSelector = None, verbose = False)` - solve the LP with all pairs or conflict pairs\n",
    "* `compare_SCS(SCS_array, SCS_names)` - compare SCS data among multiples DataFrames"
   ]
  },
  {
   "cell_type": "code",
   "execution_count": 1,
   "metadata": {},
   "outputs": [],
   "source": [
    "# Generate random data\n",
    "# Input: rows, cols, bias\n",
    "# Output: random_data\n",
    "def make_random_data(rows, cols, file=None, bias=0.7):\n",
    "    random_data = [([f'cell{i}'] if file else []) + [int(random.uniform(0, 1) < bias) for j in range(cols)] for i in range(rows)]\n",
    "    random_data = pd.DataFrame(random_data, columns=(['cellIDxmutID'] if file else []) + [f'mut{i}' for i in range(cols)])\n",
    "    if file:\n",
    "        random_data.to_csv(file, index=False, sep='\\t')\n",
    "    return random_data"
   ]
  },
  {
   "cell_type": "code",
   "execution_count": 2,
   "metadata": {},
   "outputs": [],
   "source": [
    "# Read data function\n",
    "# Input: base - folder with data, file - name of the file without extension\n",
    "# Return: In_SCS, CF_SCS, MutsAtEdges\n",
    "# Note: SCS converts all ? to 0\n",
    "# Note: MutsAtEdges is a list with a tuple - (parent, curr_node, muts: set)\n",
    "find_nodes_re = r\"\\[(?P<parent>[0-9]+)\\]->\\[(?P<node>[0-9]+)\\]:\"\n",
    "def read_data(base, file):\n",
    "    raw = pd.read_csv(base + \"/\" + file + \".SC\", sep=\"\\t\", dtype=str)\n",
    "    In_SCS = (raw.iloc[:, 1:] == \"1\").astype(int)\n",
    "    try:\n",
    "        CF_SCS = pd.read_csv(base + \"/\" + file + \".CFMatrix\", sep=\"\\t\").iloc[:, 1:]\n",
    "    except:\n",
    "        CF_SCS = None\n",
    "    try:\n",
    "        MutsAtEdges = []\n",
    "        with open(base + \"/\" + file + \".mutsAtEdges\", \"r\") as f:\n",
    "            for line in f:\n",
    "                l = line.strip().split(' ')\n",
    "                parent, curr_node = tuple(map(int, re.match(find_nodes_re, l[0]).groups()))\n",
    "                MutsAtEdges.append((parent, curr_node, set(l[1:])))\n",
    "    except:\n",
    "        MutsAtEdges = None\n",
    "    return In_SCS, CF_SCS, MutsAtEdges"
   ]
  },
  {
   "cell_type": "code",
   "execution_count": 3,
   "metadata": {},
   "outputs": [],
   "source": [
    "# Conversion cost\n",
    "# Input: X - from matrix, Y - to matrix\n",
    "# Return: Cost of converting X into Y\n",
    "def get_conversion_cost(X, Y):\n",
    "    cost = 0\n",
    "    for i in range(X.shape[0]):\n",
    "        for j in range(X.shape[1]):\n",
    "            if X.iloc[i, j] > Y.iloc[i, j]:\n",
    "                exit(1) # This is a false positive mutation\n",
    "            if X.iloc[i, j] < Y.iloc[i, j]:\n",
    "                cost += 1\n",
    "    return cost"
   ]
  },
  {
   "cell_type": "code",
   "execution_count": 4,
   "metadata": {},
   "outputs": [],
   "source": [
    "# Conflict column pairs\n",
    "# Input: X - matrix of SCS data\n",
    "# Return: nxn columns pairs, True - is conflict\n",
    "\n",
    "# Check if a column pair has conflicts - Utility function\n",
    "def is_conflict(df, p, q):\n",
    "    is10 = False\n",
    "    is01 = False\n",
    "    is11 = False\n",
    "    for k in range(df.shape[0]):\n",
    "        if df.iloc[k, p] == 1 and df.iloc[k, q] == 0:\n",
    "            is10 = True\n",
    "        if df.iloc[k, p] == 0 and df.iloc[k, q] == 1:\n",
    "            is01 = True\n",
    "        if df.iloc[k, p] == 1 and df.iloc[k, q] == 1:\n",
    "            is11 = True\n",
    "    return is10 and is01 and is11\n",
    "\n",
    "# Get matrix of is_conflict\n",
    "def find_conflict_columns(X):\n",
    "    conflicts = []\n",
    "    for p in range(n):\n",
    "        temp = []\n",
    "        for q in range(n):\n",
    "            temp.append(is_conflict(X, p, q))\n",
    "        conflicts.append(temp)\n",
    "    conflicts = pd.DataFrame(conflicts)\n",
    "    return conflicts\n",
    "# TODO: Make this more efficient - how?"
   ]
  },
  {
   "cell_type": "code",
   "execution_count": 5,
   "metadata": {},
   "outputs": [],
   "source": [
    "# Solve the LP & find the lower bound\n",
    "# Input: SCS, ColSelector - which col pairs to add constraints for, verbose\n",
    "# Return: LP_objective, LP_solution (float)\n",
    "def solve_LP(SCS, ColSelector = None, verbose = False):\n",
    "    \n",
    "    solver = pywraplp.Solver.CreateSolver(\"GLOP\")\n",
    "    m = SCS.shape[0] # rows\n",
    "    n = SCS.shape[1] # cols\n",
    "\n",
    "    # Create variables\n",
    "    vars = {}\n",
    "    for p in range(n):\n",
    "        for q in range(p+1, n):\n",
    "            if ColSelector is None or ColSelector.iloc[p, q]: # Check cols\n",
    "                vars[f\"B_{p}_{q}_1_0\"] = solver.NumVar(0, 1, f\"B_{p}_{q}_1_0\") # (6)\n",
    "                vars[f\"B_{p}_{q}_0_1\"] = solver.NumVar(0, 1, f\"B_{p}_{q}_0_1\") # (6)\n",
    "                vars[f\"B_{p}_{q}_1_1\"] = solver.NumVar(0, 1, f\"B_{p}_{q}_1_1\") # (6)\n",
    "    for i in range(m):\n",
    "        for j in range(n):\n",
    "            vars[f\"x_{i}_{j}\"] = solver.NumVar(float(SCS.iloc[i, j]), 1, f\"x_{i}_{j}\") # (7)\n",
    "    if verbose:\n",
    "        print(solver.NumVariables(), \"variables created\")\n",
    "\n",
    "    # Create constraints\n",
    "    for p in range(n):\n",
    "        for q in range(p+1, n):\n",
    "            if ColSelector is None or ColSelector.iloc[p, q]: # Check cols\n",
    "                solver.Add(vars[f\"B_{p}_{q}_1_0\"] + vars[f\"B_{p}_{q}_0_1\"] + vars[f\"B_{p}_{q}_1_1\"] <= 2) # (5)\n",
    "                for i in range(m):\n",
    "                    solver.Add(vars[f\"x_{i}_{p}\"] - vars[f\"x_{i}_{q}\"] <= vars[f\"B_{p}_{q}_1_0\"]) # (2)\n",
    "                    solver.Add(- vars[f\"x_{i}_{p}\"] + vars[f\"x_{i}_{q}\"] <= vars[f\"B_{p}_{q}_0_1\"]) # (3)\n",
    "                    solver.Add(vars[f\"x_{i}_{p}\"] + vars[f\"x_{i}_{q}\"] <= 1 + vars[f\"B_{p}_{q}_1_1\"]) # (4)\n",
    "    if verbose:\n",
    "        print(solver.NumConstraints(), \"constraints created\")\n",
    "\n",
    "    # Define objective function\n",
    "    objective = solver.Objective()\n",
    "    for i in range(m):\n",
    "        for j in range(n):\n",
    "            if SCS.iloc[i, j] == 0: # only if they used to be 0\n",
    "                objective.SetCoefficient(vars[f\"x_{i}_{j}\"], 1) # (1)\n",
    "    objective.SetMinimization()\n",
    "\n",
    "    # Solve & print objective\n",
    "    status = solver.Solve()\n",
    "    if status != pywraplp.Solver.OPTIMAL:\n",
    "        print(\"The problem does not have an optimal solution.\")\n",
    "        exit(1)\n",
    "    objective_value = objective.Value()\n",
    "    if verbose:\n",
    "        print(f\"Solving with {solver.SolverVersion()}\\n\")\n",
    "        print(f\"Solution:\\nLower bound (LP objective) = {objective_value:0.5f}\")\n",
    "\n",
    "    # Create & print the solution DF\n",
    "    solution = []\n",
    "    for i in range(m):\n",
    "        solution.append([vars[f\"x_{i}_{j}\"].solution_value() for j in range(n)])\n",
    "    solution = pd.DataFrame(solution)\n",
    "    if verbose:\n",
    "        display(solution)\n",
    "\n",
    "    # Return\n",
    "    return objective_value, solution"
   ]
  },
  {
   "cell_type": "code",
   "execution_count": 6,
   "metadata": {},
   "outputs": [],
   "source": [
    "# Compare SCS data\n",
    "# Input: SCS_array - list of SCS matrices, SCS_names - list of names\n",
    "# Return: Matrix of each difference - (row, col, mat1_val, mat2_val, ...)\n",
    "def compare_SCS(SCS_array, SCS_names):\n",
    "    m = SCS_array[0].shape[0]\n",
    "    n = SCS_array[0].shape[1]\n",
    "    diffs = []\n",
    "    for i in range(m):\n",
    "        for j in range(n):\n",
    "            to_add = False\n",
    "            temp = [i, j]\n",
    "            for SCS_DF in SCS_array:\n",
    "                if SCS_DF.iloc[i, j] != SCS_array[0].iloc[i, j]:\n",
    "                    to_add = True\n",
    "                temp.append(SCS_DF.iloc[i, j])\n",
    "            if to_add:\n",
    "                diffs.append(temp)\n",
    "    diffs = pd.DataFrame(diffs, columns=[\"row\", \"col\"] + SCS_names)\n",
    "    return diffs"
   ]
  },
  {
   "cell_type": "markdown",
   "metadata": {},
   "source": [
    "### Driver"
   ]
  },
  {
   "cell_type": "code",
   "execution_count": 7,
   "metadata": {},
   "outputs": [],
   "source": [
    "# Imports\n",
    "import pandas as pd\n",
    "from ortools.linear_solver import pywraplp\n",
    "import re\n",
    "import random\n",
    "import time\n",
    "DISPLAY_TABLES = False"
   ]
  },
  {
   "cell_type": "code",
   "execution_count": 13,
   "metadata": {},
   "outputs": [
    {
     "name": "stdout",
     "output_type": "stream",
     "text": [
      "Dimensions of the created data: (200, 50)\n"
     ]
    }
   ],
   "source": [
    "# Create data\n",
    "m = 200 # rows\n",
    "n = 50 # cols\n",
    "FILE = None #\"./data/data3.SC\"\n",
    "In_SCS = make_random_data(m, n, FILE)\n",
    "print(\"Dimensions of the created data:\", In_SCS.shape)\n",
    "if DISPLAY_TABLES:\n",
    "    display(In_SCS)"
   ]
  },
  {
   "cell_type": "code",
   "execution_count": 112,
   "metadata": {},
   "outputs": [
    {
     "name": "stdout",
     "output_type": "stream",
     "text": [
      "Data shape: (20, 20)\n"
     ]
    }
   ],
   "source": [
    "# Read data\n",
    "BASE = \"./data\"\n",
    "FILE = \"data1\"\n",
    "\n",
    "In_SCS, CF_SCS, MutsAtEdges = read_data(BASE, FILE)\n",
    "m = In_SCS.shape[0] # rows\n",
    "n = In_SCS.shape[1] # cols\n",
    "\n",
    "print(f\"Data shape: {In_SCS.shape}\")\n",
    "if DISPLAY_TABLES:\n",
    "    print(\"\\nInput SCS data:\")\n",
    "    display(In_SCS)\n",
    "    print(\"Conflict-free SCS (answer) data:\")\n",
    "    display(CF_SCS)"
   ]
  },
  {
   "cell_type": "code",
   "execution_count": null,
   "metadata": {},
   "outputs": [],
   "source": [
    "# Compare In_SCS and CF_SCS\n",
    "real_cost = get_conversion_cost(In_SCS, CF_SCS)\n",
    "print(f\"True cost of converting Input SCS to Conflict-Free SCS: {real_cost}\\n\")\n",
    "print(\"Mutations (only false negative) between Input SCS and Conflict-Free SCS:\")\n",
    "if DISPLAY_TABLES:\n",
    "    display(compare_SCS([In_SCS, CF_SCS], [\"In_SCS\", \"CF_SCS\"]))"
   ]
  },
  {
   "cell_type": "markdown",
   "metadata": {},
   "source": [
    "#### Task 1: Compare lower-bound with the actual cost"
   ]
  },
  {
   "cell_type": "code",
   "execution_count": 14,
   "metadata": {},
   "outputs": [
    {
     "name": "stdout",
     "output_type": "stream",
     "text": [
      "Lower bound (LP objective) with all columns: 1520.0\n"
     ]
    }
   ],
   "source": [
    "# Find the LP based lower bound (all columns)\n",
    "LP_bound_all_columns, LP_solution_all_columns = solve_LP(In_SCS)\n",
    "print(\"Lower bound (LP objective) with all columns:\", LP_bound_all_columns)\n",
    "if DISPLAY_TABLES:\n",
    "    display(LP_solution_all_columns)"
   ]
  },
  {
   "cell_type": "code",
   "execution_count": null,
   "metadata": {},
   "outputs": [],
   "source": [
    "# Deterministic rounding & compare\n",
    "RoundedLP_solution_all_columns = (LP_solution_all_columns.iloc[:, :] >= 0.5).astype(int)\n",
    "RoundedLP_cost_all_columns = get_conversion_cost(In_SCS, RoundedLP_solution_all_columns)\n",
    "print(f\"Cost of converting rounded solution for LP with all columns to Input SCS: {RoundedLP_cost_all_columns}\")\n",
    "if DISPLAY_TABLES:\n",
    "    display(compare_SCS([In_SCS, RoundedLP_solution_all_columns], [\"In_SCS\", \"Rounded All Columns\"]))"
   ]
  },
  {
   "cell_type": "markdown",
   "metadata": {},
   "source": [
    "#### Task 2: Does the lower bound increase when adding constraints for non-conflict column pairs to the LP (empirically tested)"
   ]
  },
  {
   "cell_type": "code",
   "execution_count": 15,
   "metadata": {},
   "outputs": [],
   "source": [
    "# Get the conflict columns - takes a long time\n",
    "conflict_columns = find_conflict_columns(In_SCS)\n",
    "if DISPLAY_TABLES:\n",
    "    print(\"Conflict columns:\")\n",
    "    display(pd.DataFrame(conflict_columns))"
   ]
  },
  {
   "cell_type": "code",
   "execution_count": 16,
   "metadata": {},
   "outputs": [
    {
     "name": "stdout",
     "output_type": "stream",
     "text": [
      "Lower bound (LP objective) with conflict columns: 1520.0\n"
     ]
    }
   ],
   "source": [
    "# Find the LP based lower bound (conflict columns)\n",
    "LP_bound_conflict_columns, LP_solution_conflict_columns = solve_LP(In_SCS, conflict_columns)\n",
    "print(\"Lower bound (LP objective) with conflict columns:\", LP_bound_conflict_columns)\n",
    "if DISPLAY_TABLES:\n",
    "    display(LP_solution_conflict_columns)"
   ]
  },
  {
   "cell_type": "code",
   "execution_count": null,
   "metadata": {},
   "outputs": [],
   "source": [
    "# Deterministic rounding & compare\n",
    "RoundedLP_solution_conflict_columns = (LP_solution_conflict_columns.iloc[:, :] >= 0.5).astype(int)\n",
    "RoundedLP_cost_conflict_columns = get_conversion_cost(In_SCS, RoundedLP_solution_conflict_columns)\n",
    "print(f\"Cost of converting rounded solution for LP with conflict columns to Input SCS: {RoundedLP_cost_conflict_columns}\")\n",
    "if DISPLAY_TABLES:\n",
    "    display(compare_SCS([In_SCS, RoundedLP_solution_conflict_columns], [\"In_SCS\", \"Rounded Conflict Columns\"]))"
   ]
  },
  {
   "cell_type": "markdown",
   "metadata": {},
   "source": [
    "### Analysis"
   ]
  },
  {
   "cell_type": "code",
   "execution_count": 104,
   "metadata": {},
   "outputs": [
    {
     "name": "stdout",
     "output_type": "stream",
     "text": [
      "True cost of converting Input SCS to Conflict-Free SCS: 40\n",
      "\n",
      "Lower bound (LP objective) with all columns: 1495.0\n",
      "Lower bound (LP objective) with conflict columns: 7474.5\n",
      "Cost of converting rounded solution for LP with all columns to Input SCS: 14949\n",
      "Cost of converting rounded solution for LP with conflict columns to Input SCS: 14949\n"
     ]
    }
   ],
   "source": [
    "# Compare costs\n",
    "print(f\"True cost of converting Input SCS to Conflict-Free SCS: {real_cost}\\n\")\n",
    "print(\"Lower bound (LP objective) with all columns:\", LP_bound_all_columns)\n",
    "print(\"Lower bound (LP objective) with conflict columns:\", LP_bound_conflict_columns)\n",
    "print(f\"Cost of converting rounded solution for LP with all columns to Input SCS: {RoundedLP_cost_all_columns}\")\n",
    "print(f\"Cost of converting rounded solution for LP with conflict columns to Input SCS: {RoundedLP_cost_conflict_columns}\")"
   ]
  },
  {
   "cell_type": "code",
   "execution_count": 17,
   "metadata": {},
   "outputs": [
    {
     "name": "stdout",
     "output_type": "stream",
     "text": [
      "LP (all columns) vs LP (conflict columns):\n"
     ]
    },
    {
     "data": {
      "text/html": [
       "<div>\n",
       "<style scoped>\n",
       "    .dataframe tbody tr th:only-of-type {\n",
       "        vertical-align: middle;\n",
       "    }\n",
       "\n",
       "    .dataframe tbody tr th {\n",
       "        vertical-align: top;\n",
       "    }\n",
       "\n",
       "    .dataframe thead th {\n",
       "        text-align: right;\n",
       "    }\n",
       "</style>\n",
       "<table border=\"1\" class=\"dataframe\">\n",
       "  <thead>\n",
       "    <tr style=\"text-align: right;\">\n",
       "      <th></th>\n",
       "      <th>row</th>\n",
       "      <th>col</th>\n",
       "      <th>LP_all_columns</th>\n",
       "      <th>LP_conflict_columns</th>\n",
       "    </tr>\n",
       "  </thead>\n",
       "  <tbody>\n",
       "  </tbody>\n",
       "</table>\n",
       "</div>"
      ],
      "text/plain": [
       "Empty DataFrame\n",
       "Columns: [row, col, LP_all_columns, LP_conflict_columns]\n",
       "Index: []"
      ]
     },
     "metadata": {},
     "output_type": "display_data"
    }
   ],
   "source": [
    "# Compare LP (all columns) and LP (conflict columns)\n",
    "print(\"LP (all columns) vs LP (conflict columns):\")\n",
    "display(compare_SCS([LP_solution_all_columns, LP_solution_conflict_columns], [\"LP_all_columns\", \"LP_conflict_columns\"]))"
   ]
  },
  {
   "cell_type": "code",
   "execution_count": null,
   "metadata": {},
   "outputs": [],
   "source": [
    "# Compare Rounded LP (all columns) and Rounded LP (conflict columns)\n",
    "print(\"Rounded LP (all columns) vs Rounded LP (conflict columns):\")\n",
    "display(compare_SCS([RoundedLP_solution_all_columns, RoundedLP_solution_conflict_columns],\n",
    "    [\"RoundedLP_all_columns\", \"RoundedLP_conflict_columns\"]))"
   ]
  },
  {
   "cell_type": "markdown",
   "metadata": {},
   "source": [
    "## TODO\n",
    "\n",
    " - confernec\n",
    "\n",
    "mailto:farid.rashidimehrabadi@nih.gov - ask for data\n",
    "\n",
    "Make sure to CC Salem (and Cenk)\n",
    "\n",
    "Tree visualization\n",
    "\n",
    "incoporate mutsAtEdges\n",
    "\n",
    "Add the list of relevent data points to the driver section"
   ]
  }
 ],
 "metadata": {
  "kernelspec": {
   "display_name": "Python 3",
   "language": "python",
   "name": "python3"
  },
  "language_info": {
   "codemirror_mode": {
    "name": "ipython",
    "version": 3
   },
   "file_extension": ".py",
   "mimetype": "text/x-python",
   "name": "python",
   "nbconvert_exporter": "python",
   "pygments_lexer": "ipython3",
   "version": "3.10.9"
  }
 },
 "nbformat": 4,
 "nbformat_minor": 2
}
